{
 "cells": [
  {
   "cell_type": "code",
   "execution_count": 74,
   "metadata": {
    "collapsed": true
   },
   "outputs": [
    {
     "name": "stdout",
     "output_type": "stream",
     "text": [
      "Requirement already satisfied: matplotlib in /Users/kym/anaconda3/envs/eeg/lib/python3.10/site-packages (3.7.1)\r\n",
      "Requirement already satisfied: packaging>=20.0 in /Users/kym/anaconda3/envs/eeg/lib/python3.10/site-packages (from matplotlib) (23.0)\r\n",
      "Requirement already satisfied: fonttools>=4.22.0 in /Users/kym/anaconda3/envs/eeg/lib/python3.10/site-packages (from matplotlib) (4.39.4)\r\n",
      "Requirement already satisfied: pillow>=6.2.0 in /Users/kym/anaconda3/envs/eeg/lib/python3.10/site-packages (from matplotlib) (9.5.0)\r\n",
      "Requirement already satisfied: pyparsing>=2.3.1 in /Users/kym/anaconda3/envs/eeg/lib/python3.10/site-packages (from matplotlib) (3.0.9)\r\n",
      "Requirement already satisfied: python-dateutil>=2.7 in /Users/kym/anaconda3/envs/eeg/lib/python3.10/site-packages (from matplotlib) (2.8.2)\r\n",
      "Requirement already satisfied: contourpy>=1.0.1 in /Users/kym/anaconda3/envs/eeg/lib/python3.10/site-packages (from matplotlib) (1.0.7)\r\n",
      "Requirement already satisfied: kiwisolver>=1.0.1 in /Users/kym/anaconda3/envs/eeg/lib/python3.10/site-packages (from matplotlib) (1.4.4)\r\n",
      "Requirement already satisfied: numpy>=1.20 in /Users/kym/anaconda3/envs/eeg/lib/python3.10/site-packages (from matplotlib) (1.24.3)\r\n",
      "Requirement already satisfied: cycler>=0.10 in /Users/kym/anaconda3/envs/eeg/lib/python3.10/site-packages (from matplotlib) (0.11.0)\r\n",
      "Requirement already satisfied: six>=1.5 in /Users/kym/anaconda3/envs/eeg/lib/python3.10/site-packages (from python-dateutil>=2.7->matplotlib) (1.16.0)\r\n",
      "Requirement already satisfied: pandas in /Users/kym/anaconda3/envs/eeg/lib/python3.10/site-packages (2.0.2)\r\n",
      "Requirement already satisfied: tzdata>=2022.1 in /Users/kym/anaconda3/envs/eeg/lib/python3.10/site-packages (from pandas) (2023.3)\r\n",
      "Requirement already satisfied: numpy>=1.21.0 in /Users/kym/anaconda3/envs/eeg/lib/python3.10/site-packages (from pandas) (1.24.3)\r\n",
      "Requirement already satisfied: pytz>=2020.1 in /Users/kym/anaconda3/envs/eeg/lib/python3.10/site-packages (from pandas) (2022.7)\r\n",
      "Requirement already satisfied: python-dateutil>=2.8.2 in /Users/kym/anaconda3/envs/eeg/lib/python3.10/site-packages (from pandas) (2.8.2)\r\n",
      "Requirement already satisfied: six>=1.5 in /Users/kym/anaconda3/envs/eeg/lib/python3.10/site-packages (from python-dateutil>=2.8.2->pandas) (1.16.0)\r\n",
      "Requirement already satisfied: scikit-learn in /Users/kym/anaconda3/envs/eeg/lib/python3.10/site-packages (1.2.2)\r\n",
      "Requirement already satisfied: scipy>=1.3.2 in /Users/kym/anaconda3/envs/eeg/lib/python3.10/site-packages (from scikit-learn) (1.10.1)\r\n",
      "Requirement already satisfied: numpy>=1.17.3 in /Users/kym/anaconda3/envs/eeg/lib/python3.10/site-packages (from scikit-learn) (1.24.3)\r\n",
      "Requirement already satisfied: joblib>=1.1.1 in /Users/kym/anaconda3/envs/eeg/lib/python3.10/site-packages (from scikit-learn) (1.2.0)\r\n",
      "Requirement already satisfied: threadpoolctl>=2.0.0 in /Users/kym/anaconda3/envs/eeg/lib/python3.10/site-packages (from scikit-learn) (3.1.0)\r\n",
      "Requirement already satisfied: tdqm in /Users/kym/anaconda3/envs/eeg/lib/python3.10/site-packages (0.0.1)\r\n",
      "Requirement already satisfied: tqdm in /Users/kym/anaconda3/envs/eeg/lib/python3.10/site-packages (from tdqm) (4.65.0)\r\n",
      "Requirement already satisfied: ipywidgets in /Users/kym/anaconda3/envs/eeg/lib/python3.10/site-packages (8.0.4)\r\n",
      "Requirement already satisfied: ipython>=6.1.0 in /Users/kym/anaconda3/envs/eeg/lib/python3.10/site-packages (from ipywidgets) (8.12.0)\r\n",
      "Requirement already satisfied: traitlets>=4.3.1 in /Users/kym/anaconda3/envs/eeg/lib/python3.10/site-packages (from ipywidgets) (5.7.1)\r\n",
      "Requirement already satisfied: jupyterlab-widgets~=3.0 in /Users/kym/anaconda3/envs/eeg/lib/python3.10/site-packages (from ipywidgets) (3.0.5)\r\n",
      "Requirement already satisfied: ipykernel>=4.5.1 in /Users/kym/anaconda3/envs/eeg/lib/python3.10/site-packages (from ipywidgets) (6.19.2)\r\n",
      "Requirement already satisfied: widgetsnbextension~=4.0 in /Users/kym/anaconda3/envs/eeg/lib/python3.10/site-packages (from ipywidgets) (4.0.5)\r\n",
      "Requirement already satisfied: psutil in /Users/kym/anaconda3/envs/eeg/lib/python3.10/site-packages (from ipykernel>=4.5.1->ipywidgets) (5.9.0)\r\n",
      "Requirement already satisfied: debugpy>=1.0 in /Users/kym/anaconda3/envs/eeg/lib/python3.10/site-packages (from ipykernel>=4.5.1->ipywidgets) (1.5.1)\r\n",
      "Requirement already satisfied: nest-asyncio in /Users/kym/anaconda3/envs/eeg/lib/python3.10/site-packages (from ipykernel>=4.5.1->ipywidgets) (1.5.6)\r\n",
      "Requirement already satisfied: comm>=0.1.1 in /Users/kym/anaconda3/envs/eeg/lib/python3.10/site-packages (from ipykernel>=4.5.1->ipywidgets) (0.1.2)\r\n",
      "Requirement already satisfied: packaging in /Users/kym/anaconda3/envs/eeg/lib/python3.10/site-packages (from ipykernel>=4.5.1->ipywidgets) (23.0)\r\n",
      "Requirement already satisfied: jupyter-client>=6.1.12 in /Users/kym/anaconda3/envs/eeg/lib/python3.10/site-packages (from ipykernel>=4.5.1->ipywidgets) (8.1.0)\r\n",
      "Requirement already satisfied: tornado>=6.1 in /Users/kym/anaconda3/envs/eeg/lib/python3.10/site-packages (from ipykernel>=4.5.1->ipywidgets) (6.2)\r\n",
      "Requirement already satisfied: appnope in /Users/kym/anaconda3/envs/eeg/lib/python3.10/site-packages (from ipykernel>=4.5.1->ipywidgets) (0.1.2)\r\n",
      "Requirement already satisfied: pyzmq>=17 in /Users/kym/anaconda3/envs/eeg/lib/python3.10/site-packages (from ipykernel>=4.5.1->ipywidgets) (25.0.2)\r\n",
      "Requirement already satisfied: matplotlib-inline>=0.1 in /Users/kym/anaconda3/envs/eeg/lib/python3.10/site-packages (from ipykernel>=4.5.1->ipywidgets) (0.1.6)\r\n",
      "Requirement already satisfied: pickleshare in /Users/kym/anaconda3/envs/eeg/lib/python3.10/site-packages (from ipython>=6.1.0->ipywidgets) (0.7.5)\r\n",
      "Requirement already satisfied: pexpect>4.3 in /Users/kym/anaconda3/envs/eeg/lib/python3.10/site-packages (from ipython>=6.1.0->ipywidgets) (4.8.0)\r\n",
      "Requirement already satisfied: decorator in /Users/kym/anaconda3/envs/eeg/lib/python3.10/site-packages (from ipython>=6.1.0->ipywidgets) (5.1.1)\r\n",
      "Requirement already satisfied: pygments>=2.4.0 in /Users/kym/anaconda3/envs/eeg/lib/python3.10/site-packages (from ipython>=6.1.0->ipywidgets) (2.15.1)\r\n",
      "Requirement already satisfied: backcall in /Users/kym/anaconda3/envs/eeg/lib/python3.10/site-packages (from ipython>=6.1.0->ipywidgets) (0.2.0)\r\n",
      "Requirement already satisfied: stack-data in /Users/kym/anaconda3/envs/eeg/lib/python3.10/site-packages (from ipython>=6.1.0->ipywidgets) (0.2.0)\r\n",
      "Requirement already satisfied: jedi>=0.16 in /Users/kym/anaconda3/envs/eeg/lib/python3.10/site-packages (from ipython>=6.1.0->ipywidgets) (0.18.1)\r\n",
      "Requirement already satisfied: prompt-toolkit!=3.0.37,<3.1.0,>=3.0.30 in /Users/kym/anaconda3/envs/eeg/lib/python3.10/site-packages (from ipython>=6.1.0->ipywidgets) (3.0.36)\r\n",
      "Requirement already satisfied: parso<0.9.0,>=0.8.0 in /Users/kym/anaconda3/envs/eeg/lib/python3.10/site-packages (from jedi>=0.16->ipython>=6.1.0->ipywidgets) (0.8.3)\r\n",
      "Requirement already satisfied: jupyter-core!=5.0.*,>=4.12 in /Users/kym/anaconda3/envs/eeg/lib/python3.10/site-packages (from jupyter-client>=6.1.12->ipykernel>=4.5.1->ipywidgets) (5.3.0)\r\n",
      "Requirement already satisfied: python-dateutil>=2.8.2 in /Users/kym/anaconda3/envs/eeg/lib/python3.10/site-packages (from jupyter-client>=6.1.12->ipykernel>=4.5.1->ipywidgets) (2.8.2)\r\n",
      "Requirement already satisfied: ptyprocess>=0.5 in /Users/kym/anaconda3/envs/eeg/lib/python3.10/site-packages (from pexpect>4.3->ipython>=6.1.0->ipywidgets) (0.7.0)\r\n",
      "Requirement already satisfied: wcwidth in /Users/kym/anaconda3/envs/eeg/lib/python3.10/site-packages (from prompt-toolkit!=3.0.37,<3.1.0,>=3.0.30->ipython>=6.1.0->ipywidgets) (0.2.5)\r\n",
      "Requirement already satisfied: pure-eval in /Users/kym/anaconda3/envs/eeg/lib/python3.10/site-packages (from stack-data->ipython>=6.1.0->ipywidgets) (0.2.2)\r\n",
      "Requirement already satisfied: asttokens in /Users/kym/anaconda3/envs/eeg/lib/python3.10/site-packages (from stack-data->ipython>=6.1.0->ipywidgets) (2.0.5)\r\n",
      "Requirement already satisfied: executing in /Users/kym/anaconda3/envs/eeg/lib/python3.10/site-packages (from stack-data->ipython>=6.1.0->ipywidgets) (0.8.3)\r\n",
      "Requirement already satisfied: platformdirs>=2.5 in /Users/kym/anaconda3/envs/eeg/lib/python3.10/site-packages (from jupyter-core!=5.0.*,>=4.12->jupyter-client>=6.1.12->ipykernel>=4.5.1->ipywidgets) (2.5.2)\r\n",
      "Requirement already satisfied: six>=1.5 in /Users/kym/anaconda3/envs/eeg/lib/python3.10/site-packages (from python-dateutil>=2.8.2->jupyter-client>=6.1.12->ipykernel>=4.5.1->ipywidgets) (1.16.0)\r\n",
      "Requirement already satisfied: eeglib in /Users/kym/anaconda3/envs/eeg/lib/python3.10/site-packages (0.4.1)\r\n",
      "Requirement already satisfied: scipy in /Users/kym/anaconda3/envs/eeg/lib/python3.10/site-packages (from eeglib) (1.10.1)\r\n",
      "Requirement already satisfied: progressbar2 in /Users/kym/anaconda3/envs/eeg/lib/python3.10/site-packages (from eeglib) (4.2.0)\r\n",
      "Requirement already satisfied: pyedflib in /Users/kym/anaconda3/envs/eeg/lib/python3.10/site-packages (from eeglib) (0.1.32)\r\n",
      "Requirement already satisfied: fastdtw in /Users/kym/anaconda3/envs/eeg/lib/python3.10/site-packages (from eeglib) (0.3.4)\r\n",
      "Requirement already satisfied: sklearn in /Users/kym/anaconda3/envs/eeg/lib/python3.10/site-packages (from eeglib) (0.0.post5)\r\n",
      "Requirement already satisfied: numba in /Users/kym/anaconda3/envs/eeg/lib/python3.10/site-packages (from eeglib) (0.57.0)\r\n",
      "Requirement already satisfied: numpy in /Users/kym/anaconda3/envs/eeg/lib/python3.10/site-packages (from eeglib) (1.24.3)\r\n",
      "Requirement already satisfied: pandas in /Users/kym/anaconda3/envs/eeg/lib/python3.10/site-packages (from eeglib) (2.0.2)\r\n",
      "Requirement already satisfied: llvmlite<0.41,>=0.40.0dev0 in /Users/kym/anaconda3/envs/eeg/lib/python3.10/site-packages (from numba->eeglib) (0.40.0)\r\n",
      "Requirement already satisfied: pytz>=2020.1 in /Users/kym/anaconda3/envs/eeg/lib/python3.10/site-packages (from pandas->eeglib) (2022.7)\r\n",
      "Requirement already satisfied: python-dateutil>=2.8.2 in /Users/kym/anaconda3/envs/eeg/lib/python3.10/site-packages (from pandas->eeglib) (2.8.2)\r\n",
      "Requirement already satisfied: tzdata>=2022.1 in /Users/kym/anaconda3/envs/eeg/lib/python3.10/site-packages (from pandas->eeglib) (2023.3)\r\n",
      "Requirement already satisfied: python-utils>=3.0.0 in /Users/kym/anaconda3/envs/eeg/lib/python3.10/site-packages (from progressbar2->eeglib) (3.6.0)\r\n",
      "Requirement already satisfied: six>=1.5 in /Users/kym/anaconda3/envs/eeg/lib/python3.10/site-packages (from python-dateutil>=2.8.2->pandas->eeglib) (1.16.0)\r\n",
      "Requirement already satisfied: typing-extensions in /Users/kym/anaconda3/envs/eeg/lib/python3.10/site-packages (from python-utils>=3.0.0->progressbar2->eeglib) (4.5.0)\r\n",
      "Requirement already satisfied: node2vec in /Users/kym/anaconda3/envs/eeg/lib/python3.10/site-packages (0.4.6)\r\n",
      "Requirement already satisfied: gensim<5.0.0,>=4.1.2 in /Users/kym/anaconda3/envs/eeg/lib/python3.10/site-packages (from node2vec) (4.3.1)\r\n",
      "Requirement already satisfied: tqdm<5.0.0,>=4.55.1 in /Users/kym/anaconda3/envs/eeg/lib/python3.10/site-packages (from node2vec) (4.65.0)\r\n",
      "Requirement already satisfied: numpy<2.0.0,>=1.19.5 in /Users/kym/anaconda3/envs/eeg/lib/python3.10/site-packages (from node2vec) (1.24.3)\r\n",
      "Requirement already satisfied: joblib<2.0.0,>=1.1.0 in /Users/kym/anaconda3/envs/eeg/lib/python3.10/site-packages (from node2vec) (1.2.0)\r\n",
      "Requirement already satisfied: networkx<3.0,>=2.5 in /Users/kym/anaconda3/envs/eeg/lib/python3.10/site-packages (from node2vec) (2.8.8)\r\n",
      "Requirement already satisfied: scipy>=1.7.0 in /Users/kym/anaconda3/envs/eeg/lib/python3.10/site-packages (from gensim<5.0.0,>=4.1.2->node2vec) (1.10.1)\r\n",
      "Requirement already satisfied: smart-open>=1.8.1 in /Users/kym/anaconda3/envs/eeg/lib/python3.10/site-packages (from gensim<5.0.0,>=4.1.2->node2vec) (6.3.0)\r\n",
      "Requirement already satisfied: networkx in /Users/kym/anaconda3/envs/eeg/lib/python3.10/site-packages (2.8.8)\r\n"
     ]
    }
   ],
   "source": [
    "!pip install matplotlib\n",
    "!pip install pandas\n",
    "!pip install scikit-learn\n",
    "\n",
    "import pandas as pd\n",
    "import numpy as np\n",
    "import os\n",
    "!pip install tdqm\n",
    "from tqdm.notebook import tqdm\n",
    "!pip install ipywidgets\n",
    "!pip install eeglib\n",
    "from eeglib.helpers import EDFHelper\n",
    "from sklearn.decomposition import PCA\n",
    "!pip install node2vec\n",
    "!pip install networkx\n",
    "import networkx as nx\n",
    "from node2vec import Node2Vec\n",
    "\n"
   ]
  },
  {
   "cell_type": "code",
   "execution_count": 75,
   "outputs": [
    {
     "data": {
      "text/plain": "  0%|          | 0/36 [00:00<?, ?it/s]",
      "application/vnd.jupyter.widget-view+json": {
       "version_major": 2,
       "version_minor": 0,
       "model_id": "dcf958cb6a2e42e0a008fe99dffa799e"
      }
     },
     "metadata": {},
     "output_type": "display_data"
    },
    {
     "data": {
      "text/plain": "Computing transition probabilities:   0%|          | 0/244 [00:00<?, ?it/s]",
      "application/vnd.jupyter.widget-view+json": {
       "version_major": 2,
       "version_minor": 0,
       "model_id": "63eca6dd5c4f4277a4d702253ab310ef"
      }
     },
     "metadata": {},
     "output_type": "display_data"
    },
    {
     "name": "stderr",
     "output_type": "stream",
     "text": [
      "Generating walks (CPU: 1): 100%|██████████| 7/7 [00:00<00:00, 47.75it/s]\n",
      "Generating walks (CPU: 2): 100%|██████████| 7/7 [00:00<00:00, 44.31it/s]\n",
      "Generating walks (CPU: 3): 100%|██████████| 6/6 [00:00<00:00, 43.69it/s]\n",
      "Generating walks (CPU: 4): 100%|██████████| 6/6 [00:00<00:00, 44.52it/s]\n",
      "Generating walks (CPU: 5): 100%|██████████| 6/6 [00:00<00:00, 49.72it/s]\n",
      "Generating walks (CPU: 6): 100%|██████████| 6/6 [00:00<00:00, 43.58it/s]\n",
      "Generating walks (CPU: 7): 100%|██████████| 6/6 [00:00<00:00, 48.99it/s]\n",
      "Generating walks (CPU: 8): 100%|██████████| 6/6 [00:00<00:00, 51.37it/s]\n"
     ]
    },
    {
     "data": {
      "text/plain": "Computing transition probabilities:   0%|          | 0/244 [00:00<?, ?it/s]",
      "application/vnd.jupyter.widget-view+json": {
       "version_major": 2,
       "version_minor": 0,
       "model_id": "83b814c9dd0e44e7a604eaa94dfd2ed6"
      }
     },
     "metadata": {},
     "output_type": "display_data"
    },
    {
     "name": "stderr",
     "output_type": "stream",
     "text": [
      "Generating walks (CPU: 1): 100%|██████████| 7/7 [00:00<00:00, 48.42it/s]\n",
      "Generating walks (CPU: 2): 100%|██████████| 7/7 [00:00<00:00, 49.37it/s]\n",
      "Generating walks (CPU: 3): 100%|██████████| 6/6 [00:00<00:00, 44.14it/s]\n",
      "Generating walks (CPU: 4): 100%|██████████| 6/6 [00:00<00:00, 49.50it/s]\n",
      "Generating walks (CPU: 5): 100%|██████████| 6/6 [00:00<00:00, 49.78it/s]\n",
      "Generating walks (CPU: 6): 100%|██████████| 6/6 [00:00<00:00, 50.50it/s]\n",
      "Generating walks (CPU: 7): 100%|██████████| 6/6 [00:00<00:00, 49.83it/s]\n",
      "Generating walks (CPU: 8): 100%|██████████| 6/6 [00:00<00:00, 51.27it/s]\n"
     ]
    },
    {
     "data": {
      "text/plain": "Computing transition probabilities:   0%|          | 0/244 [00:00<?, ?it/s]",
      "application/vnd.jupyter.widget-view+json": {
       "version_major": 2,
       "version_minor": 0,
       "model_id": "acd81111d9a24429bf3037b220fe1db3"
      }
     },
     "metadata": {},
     "output_type": "display_data"
    },
    {
     "name": "stderr",
     "output_type": "stream",
     "text": [
      "Generating walks (CPU: 1): 100%|██████████| 7/7 [00:00<00:00, 50.93it/s]\n",
      "Generating walks (CPU: 2): 100%|██████████| 7/7 [00:00<00:00, 50.67it/s]\n",
      "Generating walks (CPU: 3): 100%|██████████| 6/6 [00:00<00:00, 49.90it/s]\n",
      "Generating walks (CPU: 4): 100%|██████████| 6/6 [00:00<00:00, 49.49it/s]\n",
      "Generating walks (CPU: 5): 100%|██████████| 6/6 [00:00<00:00, 49.53it/s]\n",
      "Generating walks (CPU: 6): 100%|██████████| 6/6 [00:00<00:00, 49.45it/s]\n",
      "Generating walks (CPU: 7): 100%|██████████| 6/6 [00:00<00:00, 48.19it/s]\n",
      "Generating walks (CPU: 8): 100%|██████████| 6/6 [00:00<00:00, 50.82it/s]\n"
     ]
    },
    {
     "data": {
      "text/plain": "Computing transition probabilities:   0%|          | 0/244 [00:00<?, ?it/s]",
      "application/vnd.jupyter.widget-view+json": {
       "version_major": 2,
       "version_minor": 0,
       "model_id": "5253c9a9e3fb45349a04ab17aac81e0a"
      }
     },
     "metadata": {},
     "output_type": "display_data"
    },
    {
     "name": "stderr",
     "output_type": "stream",
     "text": [
      "Generating walks (CPU: 1): 100%|██████████| 7/7 [00:00<00:00, 50.67it/s]\n",
      "Generating walks (CPU: 2): 100%|██████████| 7/7 [00:00<00:00, 49.37it/s]\n",
      "Generating walks (CPU: 3): 100%|██████████| 6/6 [00:00<00:00, 47.44it/s]\n",
      "Generating walks (CPU: 4): 100%|██████████| 6/6 [00:00<00:00, 50.20it/s]\n",
      "Generating walks (CPU: 5): 100%|██████████| 6/6 [00:00<00:00, 48.90it/s]\n",
      "Generating walks (CPU: 6): 100%|██████████| 6/6 [00:00<00:00, 50.20it/s]\n",
      "Generating walks (CPU: 7): 100%|██████████| 6/6 [00:00<00:00, 49.34it/s]\n",
      "Generating walks (CPU: 8): 100%|██████████| 6/6 [00:00<00:00, 50.64it/s]\n"
     ]
    },
    {
     "data": {
      "text/plain": "Computing transition probabilities:   0%|          | 0/232 [00:00<?, ?it/s]",
      "application/vnd.jupyter.widget-view+json": {
       "version_major": 2,
       "version_minor": 0,
       "model_id": "358ab487ad2c4c6899cae80f13c35b06"
      }
     },
     "metadata": {},
     "output_type": "display_data"
    },
    {
     "name": "stderr",
     "output_type": "stream",
     "text": [
      "Generating walks (CPU: 1): 100%|██████████| 7/7 [00:00<00:00, 54.89it/s]\n",
      "Generating walks (CPU: 2): 100%|██████████| 7/7 [00:00<00:00, 54.74it/s]\n",
      "Generating walks (CPU: 3): 100%|██████████| 6/6 [00:00<00:00, 54.31it/s]\n",
      "Generating walks (CPU: 4): 100%|██████████| 6/6 [00:00<00:00, 55.64it/s]\n",
      "Generating walks (CPU: 5): 100%|██████████| 6/6 [00:00<00:00, 53.60it/s]\n",
      "Generating walks (CPU: 6): 100%|██████████| 6/6 [00:00<00:00, 55.53it/s]\n",
      "Generating walks (CPU: 7): 100%|██████████| 6/6 [00:00<00:00, 55.97it/s]\n",
      "Generating walks (CPU: 8): 100%|██████████| 6/6 [00:00<00:00, 56.86it/s]\n"
     ]
    },
    {
     "data": {
      "text/plain": "Computing transition probabilities:   0%|          | 0/244 [00:00<?, ?it/s]",
      "application/vnd.jupyter.widget-view+json": {
       "version_major": 2,
       "version_minor": 0,
       "model_id": "9f25256875ec46218158a3ec2f348237"
      }
     },
     "metadata": {},
     "output_type": "display_data"
    },
    {
     "name": "stderr",
     "output_type": "stream",
     "text": [
      "Generating walks (CPU: 1): 100%|██████████| 7/7 [00:00<00:00, 49.02it/s]\n",
      "Generating walks (CPU: 2): 100%|██████████| 7/7 [00:00<00:00, 42.38it/s]\n",
      "Generating walks (CPU: 3): 100%|██████████| 6/6 [00:00<00:00, 48.19it/s]\n",
      "Generating walks (CPU: 4): 100%|██████████| 6/6 [00:00<00:00, 50.76it/s]\n",
      "Generating walks (CPU: 5): 100%|██████████| 6/6 [00:00<00:00, 49.00it/s]\n",
      "Generating walks (CPU: 6): 100%|██████████| 6/6 [00:00<00:00, 49.22it/s]\n",
      "Generating walks (CPU: 7): 100%|██████████| 6/6 [00:00<00:00, 49.21it/s]\n",
      "Generating walks (CPU: 8): 100%|██████████| 6/6 [00:00<00:00, 50.62it/s]\n"
     ]
    },
    {
     "data": {
      "text/plain": "Computing transition probabilities:   0%|          | 0/244 [00:00<?, ?it/s]",
      "application/vnd.jupyter.widget-view+json": {
       "version_major": 2,
       "version_minor": 0,
       "model_id": "2e88b37891394846993f11c5e2ed7d7b"
      }
     },
     "metadata": {},
     "output_type": "display_data"
    },
    {
     "name": "stderr",
     "output_type": "stream",
     "text": [
      "Generating walks (CPU: 1): 100%|██████████| 7/7 [00:00<00:00, 48.97it/s]\n",
      "Generating walks (CPU: 2): 100%|██████████| 7/7 [00:00<00:00, 48.64it/s]\n",
      "Generating walks (CPU: 3): 100%|██████████| 6/6 [00:00<00:00, 49.52it/s]\n",
      "Generating walks (CPU: 4): 100%|██████████| 6/6 [00:00<00:00, 49.30it/s]\n",
      "Generating walks (CPU: 5): 100%|██████████| 6/6 [00:00<00:00, 47.34it/s]\n",
      "Generating walks (CPU: 6): 100%|██████████| 6/6 [00:00<00:00, 48.66it/s]\n",
      "Generating walks (CPU: 7): 100%|██████████| 6/6 [00:00<00:00, 49.19it/s]\n",
      "Generating walks (CPU: 8): 100%|██████████| 6/6 [00:00<00:00, 42.84it/s]\n"
     ]
    },
    {
     "data": {
      "text/plain": "Computing transition probabilities:   0%|          | 0/244 [00:00<?, ?it/s]",
      "application/vnd.jupyter.widget-view+json": {
       "version_major": 2,
       "version_minor": 0,
       "model_id": "c0b66e505bcb408aa8c54ca999415561"
      }
     },
     "metadata": {},
     "output_type": "display_data"
    },
    {
     "name": "stderr",
     "output_type": "stream",
     "text": [
      "Generating walks (CPU: 1): 100%|██████████| 7/7 [00:00<00:00, 50.16it/s]\n",
      "Generating walks (CPU: 2): 100%|██████████| 7/7 [00:00<00:00, 50.36it/s]\n",
      "Generating walks (CPU: 3): 100%|██████████| 6/6 [00:00<00:00, 49.72it/s]\n",
      "Generating walks (CPU: 4): 100%|██████████| 6/6 [00:00<00:00, 50.29it/s]\n",
      "Generating walks (CPU: 5): 100%|██████████| 6/6 [00:00<00:00, 51.22it/s]\n",
      "Generating walks (CPU: 6): 100%|██████████| 6/6 [00:00<00:00, 50.16it/s]\n",
      "Generating walks (CPU: 7): 100%|██████████| 6/6 [00:00<00:00, 49.68it/s]\n",
      "Generating walks (CPU: 8): 100%|██████████| 6/6 [00:00<00:00, 51.73it/s]\n"
     ]
    },
    {
     "data": {
      "text/plain": "Computing transition probabilities:   0%|          | 0/244 [00:00<?, ?it/s]",
      "application/vnd.jupyter.widget-view+json": {
       "version_major": 2,
       "version_minor": 0,
       "model_id": "1dbccb0ac90342d9adbad206a8356e8e"
      }
     },
     "metadata": {},
     "output_type": "display_data"
    },
    {
     "name": "stderr",
     "output_type": "stream",
     "text": [
      "Generating walks (CPU: 1): 100%|██████████| 7/7 [00:00<00:00, 50.70it/s]\n",
      "Generating walks (CPU: 2): 100%|██████████| 7/7 [00:00<00:00, 50.99it/s]\n",
      "Generating walks (CPU: 3): 100%|██████████| 6/6 [00:00<00:00, 48.68it/s]\n",
      "Generating walks (CPU: 4): 100%|██████████| 6/6 [00:00<00:00, 49.85it/s]\n",
      "Generating walks (CPU: 5): 100%|██████████| 6/6 [00:00<00:00, 50.35it/s]\n",
      "Generating walks (CPU: 6): 100%|██████████| 6/6 [00:00<00:00, 49.97it/s]\n",
      "Generating walks (CPU: 7): 100%|██████████| 6/6 [00:00<00:00, 50.35it/s]\n",
      "Generating walks (CPU: 8): 100%|██████████| 6/6 [00:00<00:00, 51.17it/s]\n"
     ]
    },
    {
     "data": {
      "text/plain": "Computing transition probabilities:   0%|          | 0/244 [00:00<?, ?it/s]",
      "application/vnd.jupyter.widget-view+json": {
       "version_major": 2,
       "version_minor": 0,
       "model_id": "46e5562dfa8c4f7da06c67c0a92aadcf"
      }
     },
     "metadata": {},
     "output_type": "display_data"
    },
    {
     "name": "stderr",
     "output_type": "stream",
     "text": [
      "Generating walks (CPU: 1): 100%|██████████| 7/7 [00:00<00:00, 48.82it/s]\n",
      "Generating walks (CPU: 2): 100%|██████████| 7/7 [00:00<00:00, 48.66it/s]\n",
      "Generating walks (CPU: 3): 100%|██████████| 6/6 [00:00<00:00, 46.74it/s]\n",
      "Generating walks (CPU: 4): 100%|██████████| 6/6 [00:00<00:00, 47.37it/s]\n",
      "Generating walks (CPU: 5): 100%|██████████| 6/6 [00:00<00:00, 47.94it/s]\n",
      "Generating walks (CPU: 6): 100%|██████████| 6/6 [00:00<00:00, 48.93it/s]\n",
      "Generating walks (CPU: 7): 100%|██████████| 6/6 [00:00<00:00, 48.73it/s]\n",
      "Generating walks (CPU: 8): 100%|██████████| 6/6 [00:00<00:00, 48.75it/s]\n"
     ]
    },
    {
     "data": {
      "text/plain": "Computing transition probabilities:   0%|          | 0/250 [00:00<?, ?it/s]",
      "application/vnd.jupyter.widget-view+json": {
       "version_major": 2,
       "version_minor": 0,
       "model_id": "eb109f44824f4cd1b4b4215d5d3d32cd"
      }
     },
     "metadata": {},
     "output_type": "display_data"
    },
    {
     "name": "stderr",
     "output_type": "stream",
     "text": [
      "Generating walks (CPU: 1): 100%|██████████| 7/7 [00:00<00:00, 37.99it/s]\n",
      "Generating walks (CPU: 2): 100%|██████████| 7/7 [00:00<00:00, 37.31it/s]\n",
      "Generating walks (CPU: 3): 100%|██████████| 6/6 [00:00<00:00, 37.82it/s]\n",
      "Generating walks (CPU: 4): 100%|██████████| 6/6 [00:00<00:00, 36.89it/s]\n",
      "Generating walks (CPU: 5): 100%|██████████| 6/6 [00:00<00:00, 37.82it/s]\n",
      "Generating walks (CPU: 6): 100%|██████████| 6/6 [00:00<00:00, 37.39it/s]\n",
      "Generating walks (CPU: 7): 100%|██████████| 6/6 [00:00<00:00, 36.84it/s]\n",
      "Generating walks (CPU: 8): 100%|██████████| 6/6 [00:00<00:00, 41.60it/s]\n"
     ]
    },
    {
     "data": {
      "text/plain": "Computing transition probabilities:   0%|          | 0/244 [00:00<?, ?it/s]",
      "application/vnd.jupyter.widget-view+json": {
       "version_major": 2,
       "version_minor": 0,
       "model_id": "d53b4459f42e4285a2a3166608cbb982"
      }
     },
     "metadata": {},
     "output_type": "display_data"
    },
    {
     "name": "stderr",
     "output_type": "stream",
     "text": [
      "Generating walks (CPU: 1): 100%|██████████| 7/7 [00:00<00:00, 40.50it/s]\n",
      "Generating walks (CPU: 2): 100%|██████████| 7/7 [00:00<00:00, 39.40it/s]\n",
      "Generating walks (CPU: 3): 100%|██████████| 6/6 [00:00<00:00, 39.30it/s]\n",
      "Generating walks (CPU: 4): 100%|██████████| 6/6 [00:00<00:00, 39.60it/s]\n",
      "Generating walks (CPU: 5): 100%|██████████| 6/6 [00:00<00:00, 39.31it/s]\n",
      "Generating walks (CPU: 6): 100%|██████████| 6/6 [00:00<00:00, 39.18it/s]\n",
      "Generating walks (CPU: 7): 100%|██████████| 6/6 [00:00<00:00, 39.97it/s]\n",
      "Generating walks (CPU: 8): 100%|██████████| 6/6 [00:00<00:00, 45.78it/s]\n"
     ]
    },
    {
     "data": {
      "text/plain": "Computing transition probabilities:   0%|          | 0/244 [00:00<?, ?it/s]",
      "application/vnd.jupyter.widget-view+json": {
       "version_major": 2,
       "version_minor": 0,
       "model_id": "95a7be0b10464f7aae33963b12f816e9"
      }
     },
     "metadata": {},
     "output_type": "display_data"
    },
    {
     "name": "stderr",
     "output_type": "stream",
     "text": [
      "Generating walks (CPU: 1): 100%|██████████| 7/7 [00:00<00:00, 43.89it/s]\n",
      "Generating walks (CPU: 2): 100%|██████████| 7/7 [00:00<00:00, 42.65it/s]\n",
      "Generating walks (CPU: 3): 100%|██████████| 6/6 [00:00<00:00, 41.46it/s]\n",
      "Generating walks (CPU: 4): 100%|██████████| 6/6 [00:00<00:00, 41.74it/s]\n",
      "Generating walks (CPU: 5): 100%|██████████| 6/6 [00:00<00:00, 42.32it/s]\n",
      "Generating walks (CPU: 6): 100%|██████████| 6/6 [00:00<00:00, 41.71it/s]\n",
      "Generating walks (CPU: 7): 100%|██████████| 6/6 [00:00<00:00, 42.98it/s]\n",
      "Generating walks (CPU: 8): 100%|██████████| 6/6 [00:00<00:00, 47.44it/s]\n"
     ]
    },
    {
     "data": {
      "text/plain": "Computing transition probabilities:   0%|          | 0/244 [00:00<?, ?it/s]",
      "application/vnd.jupyter.widget-view+json": {
       "version_major": 2,
       "version_minor": 0,
       "model_id": "32a236948fde40ac8c27c97c4552ad01"
      }
     },
     "metadata": {},
     "output_type": "display_data"
    },
    {
     "name": "stderr",
     "output_type": "stream",
     "text": [
      "Generating walks (CPU: 1): 100%|██████████| 7/7 [00:00<00:00, 45.93it/s]\n",
      "Generating walks (CPU: 2): 100%|██████████| 7/7 [00:00<00:00, 43.85it/s]\n",
      "Generating walks (CPU: 3): 100%|██████████| 6/6 [00:00<00:00, 44.61it/s]\n",
      "Generating walks (CPU: 4): 100%|██████████| 6/6 [00:00<00:00, 37.99it/s]\n",
      "Generating walks (CPU: 5): 100%|██████████| 6/6 [00:00<00:00, 44.68it/s]\n",
      "Generating walks (CPU: 6): 100%|██████████| 6/6 [00:00<00:00, 44.00it/s]\n",
      "Generating walks (CPU: 7): 100%|██████████| 6/6 [00:00<00:00, 44.64it/s]\n",
      "Generating walks (CPU: 8): 100%|██████████| 6/6 [00:00<00:00, 50.03it/s]\n"
     ]
    },
    {
     "data": {
      "text/plain": "Computing transition probabilities:   0%|          | 0/244 [00:00<?, ?it/s]",
      "application/vnd.jupyter.widget-view+json": {
       "version_major": 2,
       "version_minor": 0,
       "model_id": "beb9588509f0483da5a9f0ce4184ffc4"
      }
     },
     "metadata": {},
     "output_type": "display_data"
    },
    {
     "name": "stderr",
     "output_type": "stream",
     "text": [
      "Generating walks (CPU: 1): 100%|██████████| 7/7 [00:00<00:00, 48.38it/s]\n",
      "Generating walks (CPU: 2): 100%|██████████| 7/7 [00:00<00:00, 44.70it/s]\n",
      "Generating walks (CPU: 3): 100%|██████████| 6/6 [00:00<00:00, 45.58it/s]\n",
      "Generating walks (CPU: 4): 100%|██████████| 6/6 [00:00<00:00, 43.82it/s]\n",
      "Generating walks (CPU: 5): 100%|██████████| 6/6 [00:00<00:00, 44.91it/s]\n",
      "Generating walks (CPU: 6): 100%|██████████| 6/6 [00:00<00:00, 45.35it/s]\n",
      "Generating walks (CPU: 7): 100%|██████████| 6/6 [00:00<00:00, 44.38it/s]\n",
      "Generating walks (CPU: 8): 100%|██████████| 6/6 [00:00<00:00, 49.85it/s]\n"
     ]
    },
    {
     "data": {
      "text/plain": "Computing transition probabilities:   0%|          | 0/244 [00:00<?, ?it/s]",
      "application/vnd.jupyter.widget-view+json": {
       "version_major": 2,
       "version_minor": 0,
       "model_id": "e466f4880f0b4c0a8bc1b3ddbbf25142"
      }
     },
     "metadata": {},
     "output_type": "display_data"
    }
   ],
   "source": [
    "data_path = \"data\"\n",
    "# find all files in the data directory\n",
    "files = os.listdir(data_path)\n",
    "files = sorted(files)\n",
    "count = 0\n",
    "stressed = []\n",
    "not_stressed = []\n",
    "\n",
    "# x is a pd dataframe with the features\n",
    "\n",
    "# gt is a list of booleans, true if stressed, false if not\n",
    "W = 500\n",
    "overlap = 250\n",
    "dataset=[]\n",
    "S = 3\n",
    "for t in tqdm(range(0,S)):\n",
    "    unstressed_file = \"Subject\"+str(t).rjust(2, '0')+\"_1.edf\"\n",
    "    stressed_file = \"Subject\"+str(t).rjust(2, '0')+\"_2.edf\"\n",
    "    # read the edf file\n",
    "    gt=[]\n",
    "    x=[]\n",
    "    is_stressed = False\n",
    "    all_files = []\n",
    "    vectors = []\n",
    "    matrices = []\n",
    "    for file in [unstressed_file, stressed_file]:\n",
    "        helper= EDFHelper(\"data/\"+str(file), sampleRate=500, lowpass=30, highpass=0.5, windowSize=W)\n",
    "\n",
    "        for eeg in helper:\n",
    "            # for this particular window\n",
    "            dat = eeg.getChannel()\n",
    "            # create N by N matrix\n",
    "\n",
    "            l = len(dat)\n",
    "            mat = [[0 for i in range(l)] for j in range(l)]\n",
    "            for i in range(l):\n",
    "                for j in range(l):\n",
    "                    # calculate pearson's correlation between dat[i] and dat [j]\n",
    "                    mat[i][j] = np.corrcoef(dat[i], dat[j])[0][1]\n",
    "            matrices.append(mat)\n",
    "            gt.append(is_stressed)\n",
    "        is_stressed = True\n",
    "\n",
    "\n",
    "    # convert the list of matrices to a list of features\n",
    "    nw = len(matrices)\n",
    "    B = [[0 for i in range(nw)] for j in range(nw)]\n",
    "        #create a new nx graph\n",
    "    G = nx.Graph()\n",
    "        # create nodes in the graph\n",
    "    for i in range(nw):\n",
    "        G.add_node(i)\n",
    "    for i in range(nw):\n",
    "        for j in range(nw):\n",
    "            if i != j:\n",
    "                    # calculate the similarity between matrices[i] and matrices[j]\n",
    "                G.add_edge(i, j, weight=np.linalg.norm(np.array(matrices[i]) - np.array(matrices[j])))\n",
    "    # create a node2vec object\n",
    "    node2vec = Node2Vec(G, dimensions=30, walk_length=8, num_walks=50, workers=8)\n",
    "    # train node2vec\n",
    "    model = node2vec.fit()\n",
    "    # get the vectors\n",
    "    vecs=model.wv\n",
    "    # convert the vectors to a list\n",
    "    vecs = [vecs[i] for i in range(nw)]\n",
    "    vectors.extend(vecs)\n",
    "\n",
    "    dataset.append((vectors, gt))\n",
    "\n",
    "\n"
   ],
   "metadata": {
    "collapsed": false
   }
  },
  {
   "cell_type": "code",
   "execution_count": 1,
   "outputs": [
    {
     "ename": "NameError",
     "evalue": "name 'dataset' is not defined",
     "output_type": "error",
     "traceback": [
      "\u001B[0;31m---------------------------------------------------------------------------\u001B[0m",
      "\u001B[0;31mNameError\u001B[0m                                 Traceback (most recent call last)",
      "Cell \u001B[0;32mIn[1], line 27\u001B[0m\n\u001B[1;32m     24\u001B[0m \u001B[38;5;28;01mfor\u001B[39;00m classifier \u001B[38;5;129;01min\u001B[39;00m classifiers:\n\u001B[1;32m     26\u001B[0m     accuracies \u001B[38;5;241m=\u001B[39m []\n\u001B[0;32m---> 27\u001B[0m     \u001B[38;5;28;01mfor\u001B[39;00m person \u001B[38;5;129;01min\u001B[39;00m \u001B[43mdataset\u001B[49m:\n\u001B[1;32m     28\u001B[0m         x\u001B[38;5;241m=\u001B[39mperson[\u001B[38;5;241m0\u001B[39m]\n\u001B[1;32m     29\u001B[0m         gt\u001B[38;5;241m=\u001B[39mperson[\u001B[38;5;241m1\u001B[39m]\n",
      "\u001B[0;31mNameError\u001B[0m: name 'dataset' is not defined"
     ]
    }
   ],
   "source": [
    "from sklearn.ensemble import RandomForestClassifier\n",
    "from sklearn.model_selection import train_test_split\n",
    "from sklearn.metrics import accuracy_score\n",
    "from sklearn.svm import SVC\n",
    "from sklearn.neighbors import KNeighborsClassifier\n",
    "from sklearn.gaussian_process import GaussianProcessClassifier\n",
    "from sklearn.gaussian_process.kernels import RBF\n",
    "from sklearn.tree import DecisionTreeClassifier\n",
    "from sklearn.ensemble import AdaBoostClassifier\n",
    "from sklearn.neural_network import MLPClassifier\n",
    "from sklearn.naive_bayes import GaussianNB\n",
    "from sklearn.discriminant_analysis import QuadraticDiscriminantAnalysis\n",
    "classifiers = [\n",
    "    RandomForestClassifier(),\n",
    "    SVC(kernel=\"linear\", C=0.025),\n",
    "    KNeighborsClassifier(3),\n",
    "    #GaussianProcessClassifier(1.0 * RBF(1.0)),\n",
    "    DecisionTreeClassifier(),\n",
    "    MLPClassifier(alpha=1, max_iter=1000),\n",
    "    AdaBoostClassifier(),\n",
    "    GaussianNB(),\n",
    "    QuadraticDiscriminantAnalysis()\n",
    "]\n",
    "for classifier in classifiers:\n",
    "\n",
    "    accuracies = []\n",
    "    for person in dataset:\n",
    "        x=person[0]\n",
    "        gt=person[1]\n",
    "        x=pd.DataFrame(x)\n",
    "        # convert x from a list to a pd dataframe\n",
    "\n",
    "        # convert gt from a list to a pd dataframe\n",
    "        x_train, x_test, y_train, y_test = train_test_split(x, gt, test_size=0.2)\n",
    "        # convert the dataframes to numpy arrays\n",
    "        # create the vectorizer\n",
    "        # fit the vectorizer to the training data\n",
    "        # scale the training data\n",
    "        '''\n",
    "        pca_30 = PCA(n_components=30, random_state=69)\n",
    "        x_train = pca_30.fit_transform(x_train)\n",
    "        x_test = pca_30.transform(x_test)\n",
    "        '''\n",
    "\n",
    "        clf = classifier\n",
    "        clf.fit(x_train, y_train)\n",
    "        y_pred = clf.predict(x_test)\n",
    "        #print(y_test, y_pred)\n",
    "\n",
    "        accuracies.append(accuracy_score(y_test, y_pred))\n",
    "\n",
    "    #print(accuracies)\n",
    "    print(f\"Average Accuracy of {classifier}\", np.mean(accuracies))"
   ],
   "metadata": {
    "collapsed": false
   }
  },
  {
   "cell_type": "code",
   "execution_count": null,
   "outputs": [],
   "source": [],
   "metadata": {
    "collapsed": false
   }
  }
 ],
 "metadata": {
  "kernelspec": {
   "display_name": "Python 3",
   "language": "python",
   "name": "python3"
  },
  "language_info": {
   "codemirror_mode": {
    "name": "ipython",
    "version": 2
   },
   "file_extension": ".py",
   "mimetype": "text/x-python",
   "name": "python",
   "nbconvert_exporter": "python",
   "pygments_lexer": "ipython2",
   "version": "2.7.6"
  }
 },
 "nbformat": 4,
 "nbformat_minor": 0
}
